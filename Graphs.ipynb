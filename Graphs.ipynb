{
 "cells": [
  {
   "cell_type": "markdown",
   "id": "2dc3f00d",
   "metadata": {},
   "source": [
    "## Train experiments"
   ]
  },
  {
   "cell_type": "markdown",
   "id": "f6fa64ba",
   "metadata": {},
   "source": [
    "### Fitness History"
   ]
  },
  {
   "cell_type": "code",
   "execution_count": 301,
   "id": "cdf88a08",
   "metadata": {},
   "outputs": [
    {
     "ename": "FileNotFoundError",
     "evalue": "[Errno 2] No such file or directory: '/home/samanu/Desktop/MASTER/Year1/EvolutionaryComputing/evolutionary_algorithms/FirstEverExperiment/train/config.json'",
     "output_type": "error",
     "traceback": [
      "\u001b[0;31m---------------------------------------------------------------------------\u001b[0m",
      "\u001b[0;31mFileNotFoundError\u001b[0m                         Traceback (most recent call last)",
      "\u001b[0;32m/tmp/ipykernel_7062/3860421063.py\u001b[0m in \u001b[0;36m<module>\u001b[0;34m\u001b[0m\n\u001b[1;32m      4\u001b[0m \u001b[0mEXPERIMENT_NAME\u001b[0m \u001b[0;34m=\u001b[0m \u001b[0;34m\"FirstEverExperiment\"\u001b[0m\u001b[0;34m\u001b[0m\u001b[0;34m\u001b[0m\u001b[0m\n\u001b[1;32m      5\u001b[0m \u001b[0mpath\u001b[0m \u001b[0;34m=\u001b[0m \u001b[0mpathlib\u001b[0m\u001b[0;34m.\u001b[0m\u001b[0mPath\u001b[0m\u001b[0;34m(\u001b[0m\u001b[0;34m\"{}/train/config.json\"\u001b[0m\u001b[0;34m.\u001b[0m\u001b[0mformat\u001b[0m\u001b[0;34m(\u001b[0m\u001b[0mEXPERIMENT_NAME\u001b[0m\u001b[0;34m)\u001b[0m\u001b[0;34m)\u001b[0m\u001b[0;34m.\u001b[0m\u001b[0mresolve\u001b[0m\u001b[0;34m(\u001b[0m\u001b[0;34m)\u001b[0m\u001b[0;34m\u001b[0m\u001b[0;34m\u001b[0m\u001b[0m\n\u001b[0;32m----> 6\u001b[0;31m \u001b[0mconfig\u001b[0m \u001b[0;34m=\u001b[0m \u001b[0mDiskUtils\u001b[0m\u001b[0;34m.\u001b[0m\u001b[0mload\u001b[0m\u001b[0;34m(\u001b[0m\u001b[0mpath\u001b[0m\u001b[0;34m)\u001b[0m\u001b[0;34m\u001b[0m\u001b[0;34m\u001b[0m\u001b[0m\n\u001b[0m\u001b[1;32m      7\u001b[0m \u001b[0mprint\u001b[0m\u001b[0;34m(\u001b[0m\u001b[0mconfig\u001b[0m\u001b[0;34m)\u001b[0m\u001b[0;34m\u001b[0m\u001b[0;34m\u001b[0m\u001b[0m\n\u001b[1;32m      8\u001b[0m \u001b[0;34m\u001b[0m\u001b[0m\n",
      "\u001b[0;32m~/Desktop/MASTER/Year1/EvolutionaryComputing/evolutionary_algorithms/evoman_wrapper/persistence/DiskUtils.py\u001b[0m in \u001b[0;36mload\u001b[0;34m(cls, path)\u001b[0m\n\u001b[1;32m     13\u001b[0m     \u001b[0;34m@\u001b[0m\u001b[0mclassmethod\u001b[0m\u001b[0;34m\u001b[0m\u001b[0;34m\u001b[0m\u001b[0m\n\u001b[1;32m     14\u001b[0m     \u001b[0;32mdef\u001b[0m \u001b[0mload\u001b[0m\u001b[0;34m(\u001b[0m\u001b[0mcls\u001b[0m\u001b[0;34m,\u001b[0m \u001b[0mpath\u001b[0m\u001b[0;34m)\u001b[0m\u001b[0;34m:\u001b[0m\u001b[0;34m\u001b[0m\u001b[0;34m\u001b[0m\u001b[0m\n\u001b[0;32m---> 15\u001b[0;31m         \u001b[0;32mwith\u001b[0m \u001b[0mpath\u001b[0m\u001b[0;34m.\u001b[0m\u001b[0mopen\u001b[0m\u001b[0;34m(\u001b[0m\u001b[0;34m'rb'\u001b[0m\u001b[0;34m)\u001b[0m \u001b[0;32mas\u001b[0m \u001b[0mfile\u001b[0m\u001b[0;34m:\u001b[0m\u001b[0;34m\u001b[0m\u001b[0;34m\u001b[0m\u001b[0m\n\u001b[0m\u001b[1;32m     16\u001b[0m             \u001b[0;32mreturn\u001b[0m \u001b[0mpickle\u001b[0m\u001b[0;34m.\u001b[0m\u001b[0mload\u001b[0m\u001b[0;34m(\u001b[0m\u001b[0mfile\u001b[0m\u001b[0;34m)\u001b[0m\u001b[0;34m\u001b[0m\u001b[0;34m\u001b[0m\u001b[0m\n",
      "\u001b[0;32m/usr/lib/python3.8/pathlib.py\u001b[0m in \u001b[0;36mopen\u001b[0;34m(self, mode, buffering, encoding, errors, newline)\u001b[0m\n\u001b[1;32m   1220\u001b[0m         \u001b[0;32mif\u001b[0m \u001b[0mself\u001b[0m\u001b[0;34m.\u001b[0m\u001b[0m_closed\u001b[0m\u001b[0;34m:\u001b[0m\u001b[0;34m\u001b[0m\u001b[0;34m\u001b[0m\u001b[0m\n\u001b[1;32m   1221\u001b[0m             \u001b[0mself\u001b[0m\u001b[0;34m.\u001b[0m\u001b[0m_raise_closed\u001b[0m\u001b[0;34m(\u001b[0m\u001b[0;34m)\u001b[0m\u001b[0;34m\u001b[0m\u001b[0;34m\u001b[0m\u001b[0m\n\u001b[0;32m-> 1222\u001b[0;31m         return io.open(self, mode, buffering, encoding, errors, newline,\n\u001b[0m\u001b[1;32m   1223\u001b[0m                        opener=self._opener)\n\u001b[1;32m   1224\u001b[0m \u001b[0;34m\u001b[0m\u001b[0m\n",
      "\u001b[0;32m/usr/lib/python3.8/pathlib.py\u001b[0m in \u001b[0;36m_opener\u001b[0;34m(self, name, flags, mode)\u001b[0m\n\u001b[1;32m   1076\u001b[0m     \u001b[0;32mdef\u001b[0m \u001b[0m_opener\u001b[0m\u001b[0;34m(\u001b[0m\u001b[0mself\u001b[0m\u001b[0;34m,\u001b[0m \u001b[0mname\u001b[0m\u001b[0;34m,\u001b[0m \u001b[0mflags\u001b[0m\u001b[0;34m,\u001b[0m \u001b[0mmode\u001b[0m\u001b[0;34m=\u001b[0m\u001b[0;36m0o666\u001b[0m\u001b[0;34m)\u001b[0m\u001b[0;34m:\u001b[0m\u001b[0;34m\u001b[0m\u001b[0;34m\u001b[0m\u001b[0m\n\u001b[1;32m   1077\u001b[0m         \u001b[0;31m# A stub for the opener argument to built-in open()\u001b[0m\u001b[0;34m\u001b[0m\u001b[0;34m\u001b[0m\u001b[0;34m\u001b[0m\u001b[0m\n\u001b[0;32m-> 1078\u001b[0;31m         \u001b[0;32mreturn\u001b[0m \u001b[0mself\u001b[0m\u001b[0;34m.\u001b[0m\u001b[0m_accessor\u001b[0m\u001b[0;34m.\u001b[0m\u001b[0mopen\u001b[0m\u001b[0;34m(\u001b[0m\u001b[0mself\u001b[0m\u001b[0;34m,\u001b[0m \u001b[0mflags\u001b[0m\u001b[0;34m,\u001b[0m \u001b[0mmode\u001b[0m\u001b[0;34m)\u001b[0m\u001b[0;34m\u001b[0m\u001b[0;34m\u001b[0m\u001b[0m\n\u001b[0m\u001b[1;32m   1079\u001b[0m \u001b[0;34m\u001b[0m\u001b[0m\n\u001b[1;32m   1080\u001b[0m     \u001b[0;32mdef\u001b[0m \u001b[0m_raw_open\u001b[0m\u001b[0;34m(\u001b[0m\u001b[0mself\u001b[0m\u001b[0;34m,\u001b[0m \u001b[0mflags\u001b[0m\u001b[0;34m,\u001b[0m \u001b[0mmode\u001b[0m\u001b[0;34m=\u001b[0m\u001b[0;36m0o777\u001b[0m\u001b[0;34m)\u001b[0m\u001b[0;34m:\u001b[0m\u001b[0;34m\u001b[0m\u001b[0;34m\u001b[0m\u001b[0m\n",
      "\u001b[0;31mFileNotFoundError\u001b[0m: [Errno 2] No such file or directory: '/home/samanu/Desktop/MASTER/Year1/EvolutionaryComputing/evolutionary_algorithms/FirstEverExperiment/train/config.json'"
     ]
    }
   ],
   "source": [
    "from evoman_wrapper.persistence.DiskUtils import DiskUtils\n",
    "import pathlib\n",
    "\n",
    "EXPERIMENT_NAME = \"FirstEverExperiment\"\n",
    "path = pathlib.Path(\"{}/train/config.json\".format(EXPERIMENT_NAME)).resolve()\n",
    "config = DiskUtils.load(path)\n",
    "print(config)\n",
    "\n",
    "EXPERIMENT_NAME = \"SignalMutationGroupA\"\n",
    "GENERATION = 37\n",
    "FILE_NAME = \"Overview.json\"\n",
    "path = pathlib.Path(\"{}/train/Generation{}/{}\".format(EXPERIMENT_NAME, GENERATION, FILE_NAME)).resolve()\n",
    "last_generation_overview = DiskUtils.load(path)\n",
    "print(last_generation_overview)\n",
    "\n",
    "import matplotlib.pyplot as plt\n",
    "import numpy as np\n",
    "\n",
    "fitness_max_history = last_generation_overview[\"fitness_max_history\"]\n",
    "fitness_mean_history = last_generation_overview[\"fitness_mean_history\"]\n",
    "assert len(fitness_max_history) == len(fitness_mean_history), \"Logging is corrupted!\"\n",
    "\n",
    "\n",
    "x_limit = len(fitness_max_history)\n",
    "x_axis = np.linspace(0, x_limit- 1, x_limit)\n",
    "\n",
    "plt.plot(x_axis, fitness_max_history, label = 'Max Fitness')\n",
    "plt.plot(x_axis, fitness_mean_history, label = 'Mean Fitness')\n",
    "plt.legend()\n",
    "plt.title(\"Fitness through the {} generations on [{}] experiment\".format(x_limit, EXPERIMENT_NAME))\n",
    "plt.xlabel('Generations')\n",
    "plt.ylabel('Fitness')\n",
    "plt.show()"
   ]
  },
  {
   "cell_type": "markdown",
   "id": "98e0ef6d",
   "metadata": {},
   "source": [
    "## Test experiments"
   ]
  },
  {
   "cell_type": "code",
   "execution_count": 302,
   "id": "4e2e45c7",
   "metadata": {},
   "outputs": [
    {
     "ename": "FileNotFoundError",
     "evalue": "[Errno 2] No such file or directory: '/home/samanu/Desktop/MASTER/Year1/EvolutionaryComputing/evolutionary_algorithms/FirstEverExperiment/test/config.json'",
     "output_type": "error",
     "traceback": [
      "\u001b[0;31m---------------------------------------------------------------------------\u001b[0m",
      "\u001b[0;31mFileNotFoundError\u001b[0m                         Traceback (most recent call last)",
      "\u001b[0;32m/tmp/ipykernel_7062/2182456410.py\u001b[0m in \u001b[0;36m<module>\u001b[0;34m\u001b[0m\n\u001b[1;32m      1\u001b[0m \u001b[0mEXPERIMENT_NAME\u001b[0m \u001b[0;34m=\u001b[0m \u001b[0;34m\"FirstEverExperiment\"\u001b[0m\u001b[0;34m\u001b[0m\u001b[0;34m\u001b[0m\u001b[0m\n\u001b[1;32m      2\u001b[0m \u001b[0mpath\u001b[0m \u001b[0;34m=\u001b[0m \u001b[0mpathlib\u001b[0m\u001b[0;34m.\u001b[0m\u001b[0mPath\u001b[0m\u001b[0;34m(\u001b[0m\u001b[0;34m\"{}/test/config.json\"\u001b[0m\u001b[0;34m.\u001b[0m\u001b[0mformat\u001b[0m\u001b[0;34m(\u001b[0m\u001b[0mEXPERIMENT_NAME\u001b[0m\u001b[0;34m)\u001b[0m\u001b[0;34m)\u001b[0m\u001b[0;34m.\u001b[0m\u001b[0mresolve\u001b[0m\u001b[0;34m(\u001b[0m\u001b[0;34m)\u001b[0m\u001b[0;34m\u001b[0m\u001b[0;34m\u001b[0m\u001b[0m\n\u001b[0;32m----> 3\u001b[0;31m \u001b[0mconfig\u001b[0m \u001b[0;34m=\u001b[0m \u001b[0mDiskUtils\u001b[0m\u001b[0;34m.\u001b[0m\u001b[0mload\u001b[0m\u001b[0;34m(\u001b[0m\u001b[0mpath\u001b[0m\u001b[0;34m)\u001b[0m\u001b[0;34m\u001b[0m\u001b[0;34m\u001b[0m\u001b[0m\n\u001b[0m\u001b[1;32m      4\u001b[0m \u001b[0;31m# print(config)\u001b[0m\u001b[0;34m\u001b[0m\u001b[0;34m\u001b[0m\u001b[0;34m\u001b[0m\u001b[0m\n",
      "\u001b[0;32m~/Desktop/MASTER/Year1/EvolutionaryComputing/evolutionary_algorithms/evoman_wrapper/persistence/DiskUtils.py\u001b[0m in \u001b[0;36mload\u001b[0;34m(cls, path)\u001b[0m\n\u001b[1;32m     13\u001b[0m     \u001b[0;34m@\u001b[0m\u001b[0mclassmethod\u001b[0m\u001b[0;34m\u001b[0m\u001b[0;34m\u001b[0m\u001b[0m\n\u001b[1;32m     14\u001b[0m     \u001b[0;32mdef\u001b[0m \u001b[0mload\u001b[0m\u001b[0;34m(\u001b[0m\u001b[0mcls\u001b[0m\u001b[0;34m,\u001b[0m \u001b[0mpath\u001b[0m\u001b[0;34m)\u001b[0m\u001b[0;34m:\u001b[0m\u001b[0;34m\u001b[0m\u001b[0;34m\u001b[0m\u001b[0m\n\u001b[0;32m---> 15\u001b[0;31m         \u001b[0;32mwith\u001b[0m \u001b[0mpath\u001b[0m\u001b[0;34m.\u001b[0m\u001b[0mopen\u001b[0m\u001b[0;34m(\u001b[0m\u001b[0;34m'rb'\u001b[0m\u001b[0;34m)\u001b[0m \u001b[0;32mas\u001b[0m \u001b[0mfile\u001b[0m\u001b[0;34m:\u001b[0m\u001b[0;34m\u001b[0m\u001b[0;34m\u001b[0m\u001b[0m\n\u001b[0m\u001b[1;32m     16\u001b[0m             \u001b[0;32mreturn\u001b[0m \u001b[0mpickle\u001b[0m\u001b[0;34m.\u001b[0m\u001b[0mload\u001b[0m\u001b[0;34m(\u001b[0m\u001b[0mfile\u001b[0m\u001b[0;34m)\u001b[0m\u001b[0;34m\u001b[0m\u001b[0;34m\u001b[0m\u001b[0m\n",
      "\u001b[0;32m/usr/lib/python3.8/pathlib.py\u001b[0m in \u001b[0;36mopen\u001b[0;34m(self, mode, buffering, encoding, errors, newline)\u001b[0m\n\u001b[1;32m   1220\u001b[0m         \u001b[0;32mif\u001b[0m \u001b[0mself\u001b[0m\u001b[0;34m.\u001b[0m\u001b[0m_closed\u001b[0m\u001b[0;34m:\u001b[0m\u001b[0;34m\u001b[0m\u001b[0;34m\u001b[0m\u001b[0m\n\u001b[1;32m   1221\u001b[0m             \u001b[0mself\u001b[0m\u001b[0;34m.\u001b[0m\u001b[0m_raise_closed\u001b[0m\u001b[0;34m(\u001b[0m\u001b[0;34m)\u001b[0m\u001b[0;34m\u001b[0m\u001b[0;34m\u001b[0m\u001b[0m\n\u001b[0;32m-> 1222\u001b[0;31m         return io.open(self, mode, buffering, encoding, errors, newline,\n\u001b[0m\u001b[1;32m   1223\u001b[0m                        opener=self._opener)\n\u001b[1;32m   1224\u001b[0m \u001b[0;34m\u001b[0m\u001b[0m\n",
      "\u001b[0;32m/usr/lib/python3.8/pathlib.py\u001b[0m in \u001b[0;36m_opener\u001b[0;34m(self, name, flags, mode)\u001b[0m\n\u001b[1;32m   1076\u001b[0m     \u001b[0;32mdef\u001b[0m \u001b[0m_opener\u001b[0m\u001b[0;34m(\u001b[0m\u001b[0mself\u001b[0m\u001b[0;34m,\u001b[0m \u001b[0mname\u001b[0m\u001b[0;34m,\u001b[0m \u001b[0mflags\u001b[0m\u001b[0;34m,\u001b[0m \u001b[0mmode\u001b[0m\u001b[0;34m=\u001b[0m\u001b[0;36m0o666\u001b[0m\u001b[0;34m)\u001b[0m\u001b[0;34m:\u001b[0m\u001b[0;34m\u001b[0m\u001b[0;34m\u001b[0m\u001b[0m\n\u001b[1;32m   1077\u001b[0m         \u001b[0;31m# A stub for the opener argument to built-in open()\u001b[0m\u001b[0;34m\u001b[0m\u001b[0;34m\u001b[0m\u001b[0;34m\u001b[0m\u001b[0m\n\u001b[0;32m-> 1078\u001b[0;31m         \u001b[0;32mreturn\u001b[0m \u001b[0mself\u001b[0m\u001b[0;34m.\u001b[0m\u001b[0m_accessor\u001b[0m\u001b[0;34m.\u001b[0m\u001b[0mopen\u001b[0m\u001b[0;34m(\u001b[0m\u001b[0mself\u001b[0m\u001b[0;34m,\u001b[0m \u001b[0mflags\u001b[0m\u001b[0;34m,\u001b[0m \u001b[0mmode\u001b[0m\u001b[0;34m)\u001b[0m\u001b[0;34m\u001b[0m\u001b[0;34m\u001b[0m\u001b[0m\n\u001b[0m\u001b[1;32m   1079\u001b[0m \u001b[0;34m\u001b[0m\u001b[0m\n\u001b[1;32m   1080\u001b[0m     \u001b[0;32mdef\u001b[0m \u001b[0m_raw_open\u001b[0m\u001b[0;34m(\u001b[0m\u001b[0mself\u001b[0m\u001b[0;34m,\u001b[0m \u001b[0mflags\u001b[0m\u001b[0;34m,\u001b[0m \u001b[0mmode\u001b[0m\u001b[0;34m=\u001b[0m\u001b[0;36m0o777\u001b[0m\u001b[0;34m)\u001b[0m\u001b[0;34m:\u001b[0m\u001b[0;34m\u001b[0m\u001b[0;34m\u001b[0m\u001b[0m\n",
      "\u001b[0;31mFileNotFoundError\u001b[0m: [Errno 2] No such file or directory: '/home/samanu/Desktop/MASTER/Year1/EvolutionaryComputing/evolutionary_algorithms/FirstEverExperiment/test/config.json'"
     ]
    }
   ],
   "source": [
    "EXPERIMENT_NAME = \"FirstEverExperiment\"\n",
    "path = pathlib.Path(\"{}/test/config.json\".format(EXPERIMENT_NAME)).resolve()\n",
    "config = DiskUtils.load(path)\n",
    "# print(config)"
   ]
  },
  {
   "cell_type": "code",
   "execution_count": 31,
   "id": "5bae2396",
   "metadata": {},
   "outputs": [
    {
     "name": "stdout",
     "output_type": "stream",
     "text": [
      "{'games': [{'enemies': [2], 'simulation_fitness': 87.72700044143625, 'player_energy': 30, 'enemy_energy': 0, 'time_lapsed': 195}, {'enemies': [2], 'simulation_fitness': 87.72700044143625, 'player_energy': 30, 'enemy_energy': 0, 'time_lapsed': 195}, {'enemies': [2], 'simulation_fitness': 87.72700044143625, 'player_energy': 30, 'enemy_energy': 0, 'time_lapsed': 195}, {'enemies': [2], 'simulation_fitness': 87.72700044143625, 'player_energy': 30, 'enemy_energy': 0, 'time_lapsed': 195}, {'enemies': [2], 'simulation_fitness': 87.72700044143625, 'player_energy': 30, 'enemy_energy': 0, 'time_lapsed': 195}, {'enemies': [2], 'simulation_fitness': 87.72700044143625, 'player_energy': 30, 'enemy_energy': 0, 'time_lapsed': 195}, {'enemies': [2], 'simulation_fitness': 87.72700044143625, 'player_energy': 30, 'enemy_energy': 0, 'time_lapsed': 195}, {'enemies': [2], 'simulation_fitness': 87.72700044143625, 'player_energy': 30, 'enemy_energy': 0, 'time_lapsed': 195}, {'enemies': [2], 'simulation_fitness': 87.72700044143625, 'player_energy': 30, 'enemy_energy': 0, 'time_lapsed': 195}, {'enemies': [2], 'simulation_fitness': 87.72700044143625, 'player_energy': 30, 'enemy_energy': 0, 'time_lapsed': 195}, {'enemies': [2], 'simulation_fitness': 87.72700044143625, 'player_energy': 30, 'enemy_energy': 0, 'time_lapsed': 195}, {'enemies': [2], 'simulation_fitness': 87.72700044143625, 'player_energy': 30, 'enemy_energy': 0, 'time_lapsed': 195}, {'enemies': [2], 'simulation_fitness': 87.72700044143625, 'player_energy': 30, 'enemy_energy': 0, 'time_lapsed': 195}, {'enemies': [2], 'simulation_fitness': 87.72700044143625, 'player_energy': 30, 'enemy_energy': 0, 'time_lapsed': 195}, {'enemies': [2], 'simulation_fitness': 87.72700044143625, 'player_energy': 30, 'enemy_energy': 0, 'time_lapsed': 195}, {'enemies': [2], 'simulation_fitness': 87.72700044143625, 'player_energy': 30, 'enemy_energy': 0, 'time_lapsed': 195}, {'enemies': [2], 'simulation_fitness': 87.72700044143625, 'player_energy': 30, 'enemy_energy': 0, 'time_lapsed': 195}, {'enemies': [2], 'simulation_fitness': 87.72700044143625, 'player_energy': 30, 'enemy_energy': 0, 'time_lapsed': 195}, {'enemies': [2], 'simulation_fitness': 87.72700044143625, 'player_energy': 30, 'enemy_energy': 0, 'time_lapsed': 195}, {'enemies': [2], 'simulation_fitness': 87.72700044143625, 'player_energy': 30, 'enemy_energy': 0, 'time_lapsed': 195}, {'enemies': [2], 'simulation_fitness': 87.72700044143625, 'player_energy': 30, 'enemy_energy': 0, 'time_lapsed': 195}, {'enemies': [2], 'simulation_fitness': 87.72700044143625, 'player_energy': 30, 'enemy_energy': 0, 'time_lapsed': 195}], 'chosen_individual_overview': {'current_generation_number': 20, 'best_individual': [-3.0887166098278267, -0.4594977359948438, -1.9889869860921887, -6.616585910656674, -3.8427987156838146, -4.985865937956876, -5.238612286142437, -0.8757567307296645, 0.14468759971414302, -1.8979375415275759, -0.9907524051248118, -2.63356670053005, -2.925924994227067, -1.9630986931271823, 0.15393241179169803, 0.2104509358126604, -0.314356157995912, 0.6942107014997341, -0.3171019478161776, -0.17500836627363092, -0.5536343294310254, -0.21905754811502298, -1.025967476053224, -4.5021632450293945, 0.2692087919116889, -1.8529995929346152, -0.06484290937882897, 0.5040607396793395, -2.5104183064969363, -1.770860418713783, -0.30447916537389386, -0.43554399435627156, -0.0605036293455854, -1.6656579959515874, -1.3671590570023238, -2.748501153369731, -0.6827029775698119, -1.5833654264160784, 0.8024129339373403, -1.8508834923283992, -0.964685364330187, -2.168983520007984, -0.39857956908644243, -3.4474958145735712, -3.064876863399806, -2.0100768870496903, 0.12065205010886926, -3.432798007701387, 0.16008515449936556, -2.119280590283945, 0.8299291876439191, -0.7227702175929309, -3.764244888631569, -1.4220203521793873, -2.208760335798938, -0.40180709904792233, -1.515474529532036, -5.606255540935068, -2.3312782321657877, -1.947331079572637, -5.270812735263405, 0.8529737096436099, -2.8614880189822554, -2.1614047276982475, -7.054891891446323, 1.3229198091488836, -2.4203914931023127, -1.7521864201434405, -3.276530977779506, -2.5911386540515844, 1.261109073975466, -1.679236619370302, -2.2388197112173343, -4.994208593433305, -0.19296728785156936, -1.0712737498774647, -2.782920433331827, -1.3936995736796232, -2.331832858787556, -3.2325093070169952, -0.324625776446958, -6.912606893448471, -1.7957715361496516, -3.9700601256779, -0.5521321135952222, -2.2282723200168046, -3.2387115722977056, -5.82428687507378, -1.438803348821146, -0.936497204981581, 0.3321955643423744, 0.2865417578068603, -4.075984184447874, -5.079420589871762, 0.8960413075152136, -1.1964985928547962, 1.075530622526702, -4.614298961764996, -1.3573956486429068, -3.7977312807086787, -1.9526284498869446, -1.2097660170944433, -2.9703006517339055, -0.7549863638372782, -2.4480562313787, -3.3529209956621693, -2.948198466630006, -1.8377760528539608, -2.040032923440281, -0.5191832117301007, 0.3297160487835318, -2.715515627765874, -2.1193297392024486, -2.5628361005577203, -0.5902469206850918, -1.9516068838885199, 0.7085726442283047, -4.531106313545725, -3.3630537879350433, -2.4693144854574904, -3.8657519759066403, -2.4823027241170923, -3.9653425947637992, -1.070167372676659, -1.8027461985551145, -2.3789170363792067, -3.296742994731673, -1.0033421886352123, -2.4190871128357734, -2.077692607411808, -0.5535542821686867, -4.267522190951498, -1.7555848540297996, -0.9074181712703169, -2.880675467705961, -2.1739569472346405, 0.8103561425297943, -2.411893148545457, -5.390164952148639, -4.368148207135187, 0.7888035418160038, -1.690686734341315, -1.5608006338843288, -0.8846656083044677, -0.4049739568189995, -0.35343949866394797, -0.5954585988045, 0.30317310512391016, -2.5107811922922423, -2.6674741492430742, -2.1537489828581093, -3.037178988893689, -4.053364197015648, -4.060005081088013, -6.5694914295068925, -0.9276325861613752, -2.1445852331093147, -2.5086599740461017, 0.8088278296640437, -3.9934018535113953, -2.017175464881354, -0.918730994310902, -2.265334879703333, -1.346727272351599, -4.9896847513643205, -1.4498905442847878, -2.183552667545466, -1.2345055423256293, -2.7140237802379708, -0.9517834364198331, -1.5916917128873354, -0.9661462704902167, -1.5730883364846584, -0.8748279738113678, -1.0361534850514669, -3.568358806423669, -3.0187686543976433, -3.2027069147690566, -1.8806643611560145, 0.5812936859991722, -0.9997790095668337, -0.5021634658353968, -0.7251377972063575, -4.054170326749292, -4.046185590323344, -3.0167191663002857, -3.056650641243433, -0.3553092441480754, -3.648866760220287, -3.775247438611939, 0.09879440981812215, -7.487411453650569, 0.9586679815420531, -3.9065103233416316, -5.670230471110646, -3.492342575670462, -2.5644044469513956, -1.2848715465257794, 0.6160896838649603, -1.682477773146755, -1.1536371250124193, -1.5719229551485925, -4.259267937067124, -3.216809219220065, 0.8660201918674688, -3.2710433392228957, -3.2117911440035978, -4.049900004453546, -0.995646676614802, -4.095230880905331, -3.0885990498215925, 0.9380094379588573, -2.57057548822226, 0.3237934009674982, -1.2997919523279555, -0.62581304009188, -0.9800611336978795, -5.667766559185341, -1.0400831717115402, -3.3083226549737574, -3.2818730736254174, -0.7637042294329833, -0.9603626373008387, -1.3434700361945784, -2.404435660844954, -3.836507642297912, -1.209169697658929, -0.5522645559491499, -2.707838265947749, -6.742956730738957, -1.2794364112553356, -3.610022910903858, -1.5359508730072693, -1.4093315508426887, -4.048020971264624, -1.8498675527822268, 0.5135099691921297, 0.47727919875966396, -0.10133592885929543, 0.43987655157439964, -1.0257506952201205, -2.754700451708085, -0.1727197662772617, -0.25337686948176874, -3.6748598593164052, -0.7011085067969589, 0.1840033763863167, 0.06836115048214308, -4.289042956785021, -2.1912551566293774, -0.2338166963011692, -6.673170180331834, -2.5845458301984445, -0.3630033845596271, -0.8926748228162431, -2.05969251232383, -3.5564004001933136, -0.8292252873790813, -2.1077057945869075, -1.0381660847882959, -3.2632142529500423, -1.412519409858309, -2.1147886603513006, -4.49533188976422, 0.16807186272528518], 'best_individual_fitness': 87.72700044143625, 'fitness_max_history': [91, 91.77237888630937, 92.51240366476762, 92.51240366476762, 92.51240366476762, 92.51240366476762, 92.51240366476762, 92.51240366476762, 92.52482618476617, 92.52482618476617, 92.56355803717005, 92.56355803717005, 90.12353644806848, 90.12353644806848, 92.51240366476762, 92.51240366476762, 87.72700044143625, 87.72700044143625, 87.72700044143625, 87.72700044143625, 87.72700044143625], 'fitness_mean_history': [25.05, 48.94730504460999, 45.416588854846665, 49.84717404086781, 58.64033906959992, 58.95802692544788, 54.20798014429941, 49.76918295619235, 56.10238567387491, 63.554011547751315, 53.77626527865675, 57.88021813555897, 72.60649347813326, 43.350978145700005, 53.35439418785811, 59.74518357583535, 59.146433013673935, 57.311032917560325, 60.04294451185702, 76.07814748768254, 73.20199457807247]}}\n"
     ]
    }
   ],
   "source": [
    "EXPERIMENT_NAME = \"FirstEverExperiment\"\n",
    "path = pathlib.Path(\"{}/test/result.json\".format(EXPERIMENT_NAME)).resolve()\n",
    "config = DiskUtils.load(path)\n",
    "print(config)"
   ]
  },
  {
   "cell_type": "markdown",
   "id": "6c7f1cfc",
   "metadata": {},
   "source": [
    "# EXAMPLES"
   ]
  },
  {
   "cell_type": "markdown",
   "id": "0ebac146",
   "metadata": {},
   "source": [
    "## Example fetching individual simulation information"
   ]
  },
  {
   "cell_type": "code",
   "execution_count": 32,
   "id": "5c0407da",
   "metadata": {},
   "outputs": [
    {
     "data": {
      "text/plain": [
       "{'current_generation_number': 20,\n",
       " 'individual_index': 3,\n",
       " 'simulation_fitness': 87.72700044143625,\n",
       " 'player_energy': 30,\n",
       " 'enemy_energy': 0,\n",
       " 'time_lapsed': 195}"
      ]
     },
     "execution_count": 32,
     "metadata": {},
     "output_type": "execute_result"
    }
   ],
   "source": [
    "file_path = \"FirstEverExperiment/train/Generation20/Individual_3.json\"\n",
    "\n",
    "\n",
    "path = pathlib.Path(file_path).resolve()\n",
    "last_generation_overview = DiskUtils.load(path)\n",
    "last_generation_overview"
   ]
  },
  {
   "cell_type": "markdown",
   "id": "70dc1447",
   "metadata": {},
   "source": [
    "## Example fetching generation overview data"
   ]
  },
  {
   "cell_type": "code",
   "execution_count": 33,
   "id": "224fb3ce",
   "metadata": {},
   "outputs": [
    {
     "data": {
      "text/plain": [
       "{'current_generation_number': 20,\n",
       " 'best_individual': [-3.0887166098278267,\n",
       "  -0.4594977359948438,\n",
       "  -1.9889869860921887,\n",
       "  -6.616585910656674,\n",
       "  -3.8427987156838146,\n",
       "  -4.985865937956876,\n",
       "  -5.238612286142437,\n",
       "  -0.8757567307296645,\n",
       "  0.14468759971414302,\n",
       "  -1.8979375415275759,\n",
       "  -0.9907524051248118,\n",
       "  -2.63356670053005,\n",
       "  -2.925924994227067,\n",
       "  -1.9630986931271823,\n",
       "  0.15393241179169803,\n",
       "  0.2104509358126604,\n",
       "  -0.314356157995912,\n",
       "  0.6942107014997341,\n",
       "  -0.3171019478161776,\n",
       "  -0.17500836627363092,\n",
       "  -0.5536343294310254,\n",
       "  -0.21905754811502298,\n",
       "  -1.025967476053224,\n",
       "  -4.5021632450293945,\n",
       "  0.2692087919116889,\n",
       "  -1.8529995929346152,\n",
       "  -0.06484290937882897,\n",
       "  0.5040607396793395,\n",
       "  -2.5104183064969363,\n",
       "  -1.770860418713783,\n",
       "  -0.30447916537389386,\n",
       "  -0.43554399435627156,\n",
       "  -0.0605036293455854,\n",
       "  -1.6656579959515874,\n",
       "  -1.3671590570023238,\n",
       "  -2.748501153369731,\n",
       "  -0.6827029775698119,\n",
       "  -1.5833654264160784,\n",
       "  0.8024129339373403,\n",
       "  -1.8508834923283992,\n",
       "  -0.964685364330187,\n",
       "  -2.168983520007984,\n",
       "  -0.39857956908644243,\n",
       "  -3.4474958145735712,\n",
       "  -3.064876863399806,\n",
       "  -2.0100768870496903,\n",
       "  0.12065205010886926,\n",
       "  -3.432798007701387,\n",
       "  0.16008515449936556,\n",
       "  -2.119280590283945,\n",
       "  0.8299291876439191,\n",
       "  -0.7227702175929309,\n",
       "  -3.764244888631569,\n",
       "  -1.4220203521793873,\n",
       "  -2.208760335798938,\n",
       "  -0.40180709904792233,\n",
       "  -1.515474529532036,\n",
       "  -5.606255540935068,\n",
       "  -2.3312782321657877,\n",
       "  -1.947331079572637,\n",
       "  -5.270812735263405,\n",
       "  0.8529737096436099,\n",
       "  -2.8614880189822554,\n",
       "  -2.1614047276982475,\n",
       "  -7.054891891446323,\n",
       "  1.3229198091488836,\n",
       "  -2.4203914931023127,\n",
       "  -1.7521864201434405,\n",
       "  -3.276530977779506,\n",
       "  -2.5911386540515844,\n",
       "  1.261109073975466,\n",
       "  -1.679236619370302,\n",
       "  -2.2388197112173343,\n",
       "  -4.994208593433305,\n",
       "  -0.19296728785156936,\n",
       "  -1.0712737498774647,\n",
       "  -2.782920433331827,\n",
       "  -1.3936995736796232,\n",
       "  -2.331832858787556,\n",
       "  -3.2325093070169952,\n",
       "  -0.324625776446958,\n",
       "  -6.912606893448471,\n",
       "  -1.7957715361496516,\n",
       "  -3.9700601256779,\n",
       "  -0.5521321135952222,\n",
       "  -2.2282723200168046,\n",
       "  -3.2387115722977056,\n",
       "  -5.82428687507378,\n",
       "  -1.438803348821146,\n",
       "  -0.936497204981581,\n",
       "  0.3321955643423744,\n",
       "  0.2865417578068603,\n",
       "  -4.075984184447874,\n",
       "  -5.079420589871762,\n",
       "  0.8960413075152136,\n",
       "  -1.1964985928547962,\n",
       "  1.075530622526702,\n",
       "  -4.614298961764996,\n",
       "  -1.3573956486429068,\n",
       "  -3.7977312807086787,\n",
       "  -1.9526284498869446,\n",
       "  -1.2097660170944433,\n",
       "  -2.9703006517339055,\n",
       "  -0.7549863638372782,\n",
       "  -2.4480562313787,\n",
       "  -3.3529209956621693,\n",
       "  -2.948198466630006,\n",
       "  -1.8377760528539608,\n",
       "  -2.040032923440281,\n",
       "  -0.5191832117301007,\n",
       "  0.3297160487835318,\n",
       "  -2.715515627765874,\n",
       "  -2.1193297392024486,\n",
       "  -2.5628361005577203,\n",
       "  -0.5902469206850918,\n",
       "  -1.9516068838885199,\n",
       "  0.7085726442283047,\n",
       "  -4.531106313545725,\n",
       "  -3.3630537879350433,\n",
       "  -2.4693144854574904,\n",
       "  -3.8657519759066403,\n",
       "  -2.4823027241170923,\n",
       "  -3.9653425947637992,\n",
       "  -1.070167372676659,\n",
       "  -1.8027461985551145,\n",
       "  -2.3789170363792067,\n",
       "  -3.296742994731673,\n",
       "  -1.0033421886352123,\n",
       "  -2.4190871128357734,\n",
       "  -2.077692607411808,\n",
       "  -0.5535542821686867,\n",
       "  -4.267522190951498,\n",
       "  -1.7555848540297996,\n",
       "  -0.9074181712703169,\n",
       "  -2.880675467705961,\n",
       "  -2.1739569472346405,\n",
       "  0.8103561425297943,\n",
       "  -2.411893148545457,\n",
       "  -5.390164952148639,\n",
       "  -4.368148207135187,\n",
       "  0.7888035418160038,\n",
       "  -1.690686734341315,\n",
       "  -1.5608006338843288,\n",
       "  -0.8846656083044677,\n",
       "  -0.4049739568189995,\n",
       "  -0.35343949866394797,\n",
       "  -0.5954585988045,\n",
       "  0.30317310512391016,\n",
       "  -2.5107811922922423,\n",
       "  -2.6674741492430742,\n",
       "  -2.1537489828581093,\n",
       "  -3.037178988893689,\n",
       "  -4.053364197015648,\n",
       "  -4.060005081088013,\n",
       "  -6.5694914295068925,\n",
       "  -0.9276325861613752,\n",
       "  -2.1445852331093147,\n",
       "  -2.5086599740461017,\n",
       "  0.8088278296640437,\n",
       "  -3.9934018535113953,\n",
       "  -2.017175464881354,\n",
       "  -0.918730994310902,\n",
       "  -2.265334879703333,\n",
       "  -1.346727272351599,\n",
       "  -4.9896847513643205,\n",
       "  -1.4498905442847878,\n",
       "  -2.183552667545466,\n",
       "  -1.2345055423256293,\n",
       "  -2.7140237802379708,\n",
       "  -0.9517834364198331,\n",
       "  -1.5916917128873354,\n",
       "  -0.9661462704902167,\n",
       "  -1.5730883364846584,\n",
       "  -0.8748279738113678,\n",
       "  -1.0361534850514669,\n",
       "  -3.568358806423669,\n",
       "  -3.0187686543976433,\n",
       "  -3.2027069147690566,\n",
       "  -1.8806643611560145,\n",
       "  0.5812936859991722,\n",
       "  -0.9997790095668337,\n",
       "  -0.5021634658353968,\n",
       "  -0.7251377972063575,\n",
       "  -4.054170326749292,\n",
       "  -4.046185590323344,\n",
       "  -3.0167191663002857,\n",
       "  -3.056650641243433,\n",
       "  -0.3553092441480754,\n",
       "  -3.648866760220287,\n",
       "  -3.775247438611939,\n",
       "  0.09879440981812215,\n",
       "  -7.487411453650569,\n",
       "  0.9586679815420531,\n",
       "  -3.9065103233416316,\n",
       "  -5.670230471110646,\n",
       "  -3.492342575670462,\n",
       "  -2.5644044469513956,\n",
       "  -1.2848715465257794,\n",
       "  0.6160896838649603,\n",
       "  -1.682477773146755,\n",
       "  -1.1536371250124193,\n",
       "  -1.5719229551485925,\n",
       "  -4.259267937067124,\n",
       "  -3.216809219220065,\n",
       "  0.8660201918674688,\n",
       "  -3.2710433392228957,\n",
       "  -3.2117911440035978,\n",
       "  -4.049900004453546,\n",
       "  -0.995646676614802,\n",
       "  -4.095230880905331,\n",
       "  -3.0885990498215925,\n",
       "  0.9380094379588573,\n",
       "  -2.57057548822226,\n",
       "  0.3237934009674982,\n",
       "  -1.2997919523279555,\n",
       "  -0.62581304009188,\n",
       "  -0.9800611336978795,\n",
       "  -5.667766559185341,\n",
       "  -1.0400831717115402,\n",
       "  -3.3083226549737574,\n",
       "  -3.2818730736254174,\n",
       "  -0.7637042294329833,\n",
       "  -0.9603626373008387,\n",
       "  -1.3434700361945784,\n",
       "  -2.404435660844954,\n",
       "  -3.836507642297912,\n",
       "  -1.209169697658929,\n",
       "  -0.5522645559491499,\n",
       "  -2.707838265947749,\n",
       "  -6.742956730738957,\n",
       "  -1.2794364112553356,\n",
       "  -3.610022910903858,\n",
       "  -1.5359508730072693,\n",
       "  -1.4093315508426887,\n",
       "  -4.048020971264624,\n",
       "  -1.8498675527822268,\n",
       "  0.5135099691921297,\n",
       "  0.47727919875966396,\n",
       "  -0.10133592885929543,\n",
       "  0.43987655157439964,\n",
       "  -1.0257506952201205,\n",
       "  -2.754700451708085,\n",
       "  -0.1727197662772617,\n",
       "  -0.25337686948176874,\n",
       "  -3.6748598593164052,\n",
       "  -0.7011085067969589,\n",
       "  0.1840033763863167,\n",
       "  0.06836115048214308,\n",
       "  -4.289042956785021,\n",
       "  -2.1912551566293774,\n",
       "  -0.2338166963011692,\n",
       "  -6.673170180331834,\n",
       "  -2.5845458301984445,\n",
       "  -0.3630033845596271,\n",
       "  -0.8926748228162431,\n",
       "  -2.05969251232383,\n",
       "  -3.5564004001933136,\n",
       "  -0.8292252873790813,\n",
       "  -2.1077057945869075,\n",
       "  -1.0381660847882959,\n",
       "  -3.2632142529500423,\n",
       "  -1.412519409858309,\n",
       "  -2.1147886603513006,\n",
       "  -4.49533188976422,\n",
       "  0.16807186272528518],\n",
       " 'best_individual_fitness': 87.72700044143625,\n",
       " 'fitness_max_history': [91,\n",
       "  91.77237888630937,\n",
       "  92.51240366476762,\n",
       "  92.51240366476762,\n",
       "  92.51240366476762,\n",
       "  92.51240366476762,\n",
       "  92.51240366476762,\n",
       "  92.51240366476762,\n",
       "  92.52482618476617,\n",
       "  92.52482618476617,\n",
       "  92.56355803717005,\n",
       "  92.56355803717005,\n",
       "  90.12353644806848,\n",
       "  90.12353644806848,\n",
       "  92.51240366476762,\n",
       "  92.51240366476762,\n",
       "  87.72700044143625,\n",
       "  87.72700044143625,\n",
       "  87.72700044143625,\n",
       "  87.72700044143625,\n",
       "  87.72700044143625],\n",
       " 'fitness_mean_history': [25.05,\n",
       "  48.94730504460999,\n",
       "  45.416588854846665,\n",
       "  49.84717404086781,\n",
       "  58.64033906959992,\n",
       "  58.95802692544788,\n",
       "  54.20798014429941,\n",
       "  49.76918295619235,\n",
       "  56.10238567387491,\n",
       "  63.554011547751315,\n",
       "  53.77626527865675,\n",
       "  57.88021813555897,\n",
       "  72.60649347813326,\n",
       "  43.350978145700005,\n",
       "  53.35439418785811,\n",
       "  59.74518357583535,\n",
       "  59.146433013673935,\n",
       "  57.311032917560325,\n",
       "  60.04294451185702,\n",
       "  76.07814748768254,\n",
       "  73.20199457807247]}"
      ]
     },
     "execution_count": 33,
     "metadata": {},
     "output_type": "execute_result"
    }
   ],
   "source": [
    "file_path = \"FirstEverExperiment/train/Generation20/Overview.json\"\n",
    "\n",
    "path = pathlib.Path(file_path).resolve()\n",
    "last_generation_overview = DiskUtils.load(path)\n",
    "last_generation_overview"
   ]
  },
  {
   "cell_type": "markdown",
   "id": "0045649a",
   "metadata": {},
   "source": []
  },
  {
   "cell_type": "markdown",
   "id": "d16e6d2f",
   "metadata": {},
   "source": []
  },
  {
   "cell_type": "markdown",
   "id": "f0a4c8d4",
   "metadata": {},
   "source": []
  },
  {
   "cell_type": "code",
   "execution_count": 295,
   "id": "aeb74ca9",
   "metadata": {},
   "outputs": [
    {
     "data": {
      "text/plain": [
       "[<matplotlib.lines.Line2D at 0x7fd64a4a0190>]"
      ]
     },
     "execution_count": 295,
     "metadata": {},
     "output_type": "execute_result"
    },
    {
     "data": {
      "image/png": "[encoded data removed]",
      "text/plain": [
       "<Figure size 432x288 with 1 Axes>"
      ]
     },
     "metadata": {
      "needs_background": "light"
     },
     "output_type": "display_data"
    }
   ],
   "source": []
  },
  {
   "cell_type": "markdown",
   "id": "cd06730c",
   "metadata": {},
   "source": []
  },
  {
   "cell_type": "markdown",
   "metadata": {},
   "source": []
  },
  {
   "cell_type": "code",
   "execution_count": 296,
   "id": "69fe2f61",
   "metadata": {},
   "outputs": [
    {
     "data": {
      "text/plain": [
       "[<matplotlib.lines.Line2D at 0x7fd64a40b0d0>]"
      ]
     },
     "execution_count": 296,
     "metadata": {},
     "output_type": "execute_result"
    },
    {
     "data": {
      "image/png": "[encoded data removed]",
      "text/plain": [
       "<Figure size 432x288 with 1 Axes>"
      ]
     },
     "metadata": {
      "needs_background": "light"
     },
     "output_type": "display_data"
    }
   ],
   "source": []
  }
 ],
 "metadata": {
  "kernelspec": {
   "display_name": "Python 3 (ipykernel)",
   "language": "python",
   "name": "python3"
  },
  "language_info": {
   "codemirror_mode": {
    "name": "ipython",
    "version": 3
   },
   "file_extension": ".py",
   "mimetype": "text/x-python",
   "name": "python",
   "nbconvert_exporter": "python",
   "pygments_lexer": "ipython3",
   "version": "3.8.10"
  },
  "vscode": {
   "interpreter": {
    "hash": "916dbcbb3f70747c44a77c7bcd40155683ae19c65e1c03b4aa3499c5328201f1"
   }
  }
 },
 "nbformat": 4,
 "nbformat_minor": 5
}
