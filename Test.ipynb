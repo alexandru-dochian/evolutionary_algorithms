{
 "cells": [
  {
   "cell_type": "code",
   "execution_count": null,
   "metadata": {},
   "outputs": [],
   "source": [
    "from evoman_wrapper.EvomanWrapper import EvomanWrapper\n",
    "\n",
    "\"\"\"\n",
    "1. Setup config\n",
    "\"\"\"\n",
    "EXPERIMENT_NAME = \"SignalEAGroupA\"\n",
    "hidden_layers = 10\n",
    "number_of_sensors = 20\n",
    "\n",
    "config = {\n",
    "    \"config_type\": \"test\",\n",
    "    \"hidden_layers\": hidden_layers,\n",
    "    \"number_of_sensors\": number_of_sensors,\n",
    "    \"experiment_name\": EXPERIMENT_NAME,\n",
    "    \"chosen_generation\": 20,\n",
    "    \"environment_config\": {\n",
    "        \"experiment_name\": EXPERIMENT_NAME,\n",
    "        \"enemies\": [2],\n",
    "        \"playermode\": \"ai\",\n",
    "        \"enemymode\": \"static\",\n",
    "        \"level\": 2,\n",
    "        \"speed\": \"fastest\",\n",
    "        \"logs\": \"off\",\n",
    "        \"player_controller\": None,\n",
    "    },\n",
    "    \"evolutionary_algorithm\": None,\n",
    "    \"controller\": {\n",
    "        \"instance\": \"NNController\",\n",
    "        \"constructor\": {\n",
    "            \"n_hidden\": hidden_layers\n",
    "        }\n",
    "    },\n",
    "    \"games\": [\n",
    "        {\"enemies\": [1, 2, 3]},\n",
    "        {\"enemies\": [1, 2, 3]},\n",
    "        {\"enemies\": [1, 2, 3]},\n",
    "        {\"enemies\": [1, 2, 3]},\n",
    "        {\"enemies\": [1, 2, 3]},\n",
    "        {\"enemies\": [1, 2, 3]},\n",
    "        {\"enemies\": [1, 2, 3]},\n",
    "        {\"enemies\": [1, 2, 3]},\n",
    "        {\"enemies\": [1, 2, 3]},\n",
    "        {\"enemies\": [1, 2, 3]},\n",
    "    ]\n",
    "}\n",
    "\n",
    "\"\"\"\n",
    "2. Test\n",
    "\"\"\"\n",
    "evoman_wrapper = EvomanWrapper(config).test()\n"
   ]
  }
 ],
 "metadata": {
  "kernelspec": {
   "display_name": "Python 3.8.10 64-bit",
   "language": "python",
   "name": "python3"
  },
  "language_info": {
   "name": "python",
   "version": "3.8.10"
  },
  "orig_nbformat": 4,
  "vscode": {
   "interpreter": {
    "hash": "916dbcbb3f70747c44a77c7bcd40155683ae19c65e1c03b4aa3499c5328201f1"
   }
  }
 },
 "nbformat": 4,
 "nbformat_minor": 2
}
